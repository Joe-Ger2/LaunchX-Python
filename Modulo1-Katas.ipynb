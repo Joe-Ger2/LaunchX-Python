{
 "cells": [
  {
   "cell_type": "markdown",
   "metadata": {},
   "source": [
    "# Kata Modulo 1"
   ]
  },
  {
   "cell_type": "markdown",
   "metadata": {},
   "source": [
    "## Ejercicio 1: \n",
    "\n",
    "Programa que muestre la fecha del dia de hoy."
   ]
  },
  {
   "cell_type": "code",
   "execution_count": 2,
   "metadata": {},
   "outputs": [
    {
     "name": "stdout",
     "output_type": "stream",
     "text": [
      " La fecha de hoy es: 2022-02-10\n"
     ]
    }
   ],
   "source": [
    "from datetime import date\n",
    "\n",
    "print(' La fecha de hoy es: ' + str(date.today()))"
   ]
  },
  {
   "cell_type": "markdown",
   "metadata": {},
   "source": [
    "## Ejercicio 2: Convertidor de Unidades\n",
    "\n",
    "Convertidor de parsec a años luz."
   ]
  },
  {
   "cell_type": "code",
   "execution_count": 3,
   "metadata": {},
   "outputs": [
    {
     "name": "stdout",
     "output_type": "stream",
     "text": [
      "11 parsec, is 35.877159999999996 lightyears\n"
     ]
    }
   ],
   "source": [
    "parsec = 11\n",
    "lightyears = 3.26156 * parsec\n",
    "\n",
    "print(str(parsec) + ' parsec, is ' + str(lightyears) + ' lightyears')"
   ]
  }
 ],
 "metadata": {
  "interpreter": {
   "hash": "1e85ffd29bf42864c090d9603265d174842e229f999257a9d2f17f0db77ca601"
  },
  "kernelspec": {
   "display_name": "Python 3.8.5 64-bit ('base': conda)",
   "name": "python3"
  },
  "language_info": {
   "codemirror_mode": {
    "name": "ipython",
    "version": 3
   },
   "file_extension": ".py",
   "mimetype": "text/x-python",
   "name": "python",
   "nbconvert_exporter": "python",
   "pygments_lexer": "ipython3",
   "version": "3.8.5"
  },
  "orig_nbformat": 4
 },
 "nbformat": 4,
 "nbformat_minor": 2
}
