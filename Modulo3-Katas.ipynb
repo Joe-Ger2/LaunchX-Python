{
 "cells": [
  {
   "cell_type": "markdown",
   "metadata": {},
   "source": [
    "# Kata Modulo 3 - Lógica Booleana"
   ]
  },
  {
   "cell_type": "markdown",
   "metadata": {},
   "source": [
    "## Ejercicio 1\n",
    "\n",
    "- Añadir el código necesario para crear una variable que guarde la velocidad del asteroide.\n",
    "- Escribe una expresion de prueba para calcular si necesita una advertencia.\n",
    "- Agregue las instrucciones que se ejecutarán si la expresion es true o false."
   ]
  },
  {
   "cell_type": "code",
   "execution_count": 1,
   "metadata": {},
   "outputs": [
    {
     "name": "stdout",
     "output_type": "stream",
     "text": [
      " ¡Advertencia!... Un asteroide se acerca a la Tierra demasiado rapido.\n"
     ]
    }
   ],
   "source": [
    "asteroide = 49\n",
    "\n",
    "if asteroide > 25:\n",
    "    print(' ¡Advertencia!... Un asteroide se acerca a la Tierra demasiado rapido.')\n",
    "else:\n",
    "    print(' No hay peligro.')"
   ]
  },
  {
   "cell_type": "markdown",
   "metadata": {},
   "source": [
    "## Ejercicio 2:\n",
    "\n",
    " - Agregue el código para crear una variable para un asteroide que viaja a 19 km/s.\n",
    " - Escribe varias expresiones de prueba para determinar si puedes ver el rayo de luz de la tierra.\n",
    " - Agrega las instrucciones que se ejecutaran si las expresiones de prueba son true o false"
   ]
  },
  {
   "cell_type": "code",
   "execution_count": 2,
   "metadata": {},
   "outputs": [
    {
     "name": "stdout",
     "output_type": "stream",
     "text": [
      " Mira al cielo, hay un rayo de luz.\n"
     ]
    }
   ],
   "source": [
    "asteroide2 = 19\n",
    "\n",
    "if asteroide2 > 20:\n",
    "    print(' Mira al cielo, hay un rayo de luz!')\n",
    "elif asteroide2 == 19:\n",
    "    print( ' Mira al cielo, hay un rayo de luz.')\n",
    "else:\n",
    "    print(' No hay nada que ver.')\n",
    "\n"
   ]
  },
  {
   "cell_type": "markdown",
   "metadata": {},
   "source": [
    "## Ejercicio 3:\n",
    "\n",
    "- Agrega el código para crear nuevas variables para la velocidad y el tamaño del asteroide.\n",
    "- Para probar el código, prueba con varias velocidades y tamaños.\n",
    "- Escribe varias expresiones de prueba o combinaciones de expresiones de prueba para determinar que mensaje se debe enviar a Tierra."
   ]
  },
  {
   "cell_type": "code",
   "execution_count": 4,
   "metadata": {},
   "outputs": [
    {
     "name": "stdout",
     "output_type": "stream",
     "text": [
      " ¡Mira al cielo!, Se puede puede ver una rayo de luz.\n"
     ]
    }
   ],
   "source": [
    "velocidadAsteroide = 25\n",
    "tamanoAsteroide = 40\n",
    "\n",
    "if velocidadAsteroide > 25 and tamanoAsteroide > 25:\n",
    "    print(' ¡Advertencia!, Un asteroide se acerca a la tierra a una velicodad muy rapida.')\n",
    "elif velocidadAsteroide >= 20:\n",
    "    print(' ¡Mira al cielo!, Se puede puede ver una rayo de luz.')\n",
    "elif tamanoAsteroide < 25:\n",
    "    print(' No hay nada que ver.')\n",
    "else:\n",
    "    print(' No hay nada que ver.')"
   ]
  }
 ],
 "metadata": {
  "interpreter": {
   "hash": "1e85ffd29bf42864c090d9603265d174842e229f999257a9d2f17f0db77ca601"
  },
  "kernelspec": {
   "display_name": "Python 3.8.5 64-bit ('base': conda)",
   "name": "python3"
  },
  "language_info": {
   "codemirror_mode": {
    "name": "ipython",
    "version": 3
   },
   "file_extension": ".py",
   "mimetype": "text/x-python",
   "name": "python",
   "nbconvert_exporter": "python",
   "pygments_lexer": "ipython3",
   "version": "3.8.5"
  },
  "orig_nbformat": 4
 },
 "nbformat": 4,
 "nbformat_minor": 2
}
