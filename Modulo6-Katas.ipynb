{
 "cells": [
  {
   "cell_type": "markdown",
   "metadata": {},
   "source": [
    "# Kata Modulo 6 - Introducción a las Listas"
   ]
  },
  {
   "cell_type": "markdown",
   "metadata": {},
   "source": [
    "## Ejercicio 1: Usar listas para almacenar nombres de planetas."
   ]
  },
  {
   "cell_type": "code",
   "execution_count": 7,
   "metadata": {},
   "outputs": [
    {
     "name": "stdout",
     "output_type": "stream",
     "text": [
      "El número de planetas en la lista es de:  8\n"
     ]
    }
   ],
   "source": [
    "# Crear lista planets y mostrarla.\n",
    "\n",
    "planets = ['Mercurio', 'Venus', 'Tierra', 'Marte', 'Jupiter', 'Saturno', 'Neptuno']\n",
    "print('El número de planetas en la lista es de: ', len(planets))"
   ]
  },
  {
   "cell_type": "code",
   "execution_count": 18,
   "metadata": {},
   "outputs": [
    {
     "name": "stdout",
     "output_type": "stream",
     "text": [
      "El último planeta de la lista es:  Pluton\n"
     ]
    }
   ],
   "source": [
    "# Agregar a plutón a la lista y mostrar el ultimo elemento.\n",
    "\n",
    "planets.append('Pluton')\n",
    "print('El último planeta de la lista es: ', planets[-1])"
   ]
  },
  {
   "cell_type": "markdown",
   "metadata": {},
   "source": [
    "## Ejercicio 2: Datos de una lista."
   ]
  },
  {
   "cell_type": "code",
   "execution_count": 8,
   "metadata": {},
   "outputs": [],
   "source": [
    "# Lista de planetas\n",
    "\n",
    "planetas = ['Mercurio', 'Venus', 'Tierra', 'Marte', 'Jupiter', 'Saturno', 'Neptuno']"
   ]
  },
  {
   "cell_type": "code",
   "execution_count": 9,
   "metadata": {},
   "outputs": [],
   "source": [
    "# Solicitar el nombre de un planeta.\n",
    "\n",
    "solicitarPlaneta = input('Introduzca el nombre de un planeta, usando un letra mayuscula. ')"
   ]
  },
  {
   "cell_type": "code",
   "execution_count": 14,
   "metadata": {},
   "outputs": [],
   "source": [
    "# Buscar el planeta en la lista.\n",
    "\n",
    "planeta_index = planetas.index(solicitarPlaneta)\n"
   ]
  },
  {
   "cell_type": "code",
   "execution_count": 15,
   "metadata": {},
   "outputs": [
    {
     "name": "stdout",
     "output_type": "stream",
     "text": [
      " Los planetas más cercanos al sol antes de Tierra son: \n",
      "['Mercurio', 'Venus']\n"
     ]
    }
   ],
   "source": [
    "# Mostrar los planetas más cercanos al sol.\n",
    "\n",
    "print(' Los planetas más cercanos al sol antes de ' + solicitarPlaneta + ' son: ')\n",
    "print(planetas[0:planeta_index])"
   ]
  },
  {
   "cell_type": "code",
   "execution_count": 16,
   "metadata": {},
   "outputs": [
    {
     "name": "stdout",
     "output_type": "stream",
     "text": [
      " Los planetas mas lejanos al sol, después de Tierra son: \n",
      "['Marte', 'Jupiter', 'Saturno', 'Neptuno']\n"
     ]
    }
   ],
   "source": [
    "# Mostrar los planetas mas lejanos al sol.\n",
    "\n",
    "print(' Los planetas mas lejanos al sol, después de ' + solicitarPlaneta + ' son: ')\n",
    "print(planetas[planeta_index + 1:])"
   ]
  }
 ],
 "metadata": {
  "interpreter": {
   "hash": "1e85ffd29bf42864c090d9603265d174842e229f999257a9d2f17f0db77ca601"
  },
  "kernelspec": {
   "display_name": "Python 3.8.5 64-bit ('base': conda)",
   "name": "python3"
  },
  "language_info": {
   "codemirror_mode": {
    "name": "ipython",
    "version": 3
   },
   "file_extension": ".py",
   "mimetype": "text/x-python",
   "name": "python",
   "nbconvert_exporter": "python",
   "pygments_lexer": "ipython3",
   "version": "3.8.5"
  },
  "orig_nbformat": 4
 },
 "nbformat": 4,
 "nbformat_minor": 2
}
