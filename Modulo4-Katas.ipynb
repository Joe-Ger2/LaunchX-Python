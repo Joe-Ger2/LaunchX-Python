{
 "cells": [
  {
   "cell_type": "markdown",
   "metadata": {},
   "source": [
    "# Kata Modulo 4 - Cadenas"
   ]
  },
  {
   "cell_type": "markdown",
   "metadata": {},
   "source": [
    "## Ejercicio 1: Transformar Cadenas."
   ]
  },
  {
   "cell_type": "code",
   "execution_count": 145,
   "metadata": {},
   "outputs": [],
   "source": [
    "text = \"\"\"Interesting facts about the Moon. The Moon is Earth's only satellite. There are several interesting facts about the Moon and how it affects life here on Earth. \n",
    "On average, the Moon moves 4cm away from the Earth every year. This yearly drift is not significant enough to cause immediate effects on Earth. The highest daylight temperature of the Moon is 127 C.\"\"\""
   ]
  },
  {
   "cell_type": "code",
   "execution_count": 146,
   "metadata": {},
   "outputs": [],
   "source": [
    "# Añade el código necesario.\n",
    "\n",
    "newText = text.split('. ')"
   ]
  },
  {
   "cell_type": "code",
   "execution_count": 148,
   "metadata": {},
   "outputs": [],
   "source": [
    "# Defiine las palabras pista: average, temperature y distance.\n",
    "palabrasClave = ['average', 'temperature', 'distance']"
   ]
  },
  {
   "cell_type": "code",
   "execution_count": 152,
   "metadata": {},
   "outputs": [
    {
     "name": "stdout",
     "output_type": "stream",
     "text": [
      "\n",
      "On average, the Moon moves 4cm away from the Earth every year\n",
      "The highest daylight temperature of the Moon is 127 C.\n"
     ]
    }
   ],
   "source": [
    "# Ciclo for para recorrer la cadena\n",
    "\n",
    "for tex in newText:\n",
    "    # print(f'Sentencia: ' + tex)\n",
    "    for palabras in palabrasClave:\n",
    "       # print('Palabras Clave: '+palabras)\n",
    "        if palabras in tex:\n",
    "            print(tex)\n",
    "            break"
   ]
  },
  {
   "cell_type": "markdown",
   "metadata": {},
   "source": [
    "## Ejercicio 2: Formateando Cadenas."
   ]
  },
  {
   "cell_type": "code",
   "execution_count": 93,
   "metadata": {},
   "outputs": [],
   "source": [
    "# Datos\n",
    "\n",
    "name = 'Moon'\n",
    "gravity = 0.00162 # in km\n",
    "planet = 'Earth'"
   ]
  },
  {
   "cell_type": "code",
   "execution_count": 94,
   "metadata": {},
   "outputs": [],
   "source": [
    "# Crear titulo Usando f\n",
    "\n",
    "titulo = f' Gravity Facts about {name} and {planet}'.title()"
   ]
  },
  {
   "cell_type": "code",
   "execution_count": 92,
   "metadata": {},
   "outputs": [
    {
     "name": "stdout",
     "output_type": "stream",
     "text": [
      " Gravity Facts About Moon And Earth \n",
      " ----------------------------------------\n",
      " Nombre del planeta : Earth\n",
      " Gravedad en Moon: 1.6199999999999999 m/s2\n"
     ]
    }
   ],
   "source": [
    "# Creamos la plantilla\n",
    "\n",
    "plantilla = f' \\n {\"-\" * 40}\\n Nombre del planeta : {planet}\\n Gravedad en {name}: {gravity * 1000} m/s2'\n",
    "\n",
    "# Unir ambas cadenas.\n",
    "\n",
    "print( titulo + plantilla)\n"
   ]
  },
  {
   "cell_type": "code",
   "execution_count": 58,
   "metadata": {},
   "outputs": [
    {
     "name": "stdout",
     "output_type": "stream",
     "text": [
      " \n",
      " ----------------------------------------\n",
      " Nombre del planeta : Earth\n",
      " Gravedad en Moon: 1.6199999999999999 m/s2\n"
     ]
    }
   ],
   "source": [
    "# Nuevos Datos\n",
    "\n",
    "planeta = 'Marte'\n",
    "gravedad = 0.00143\n",
    "nombre = 'Ganimedes'\n",
    "\n",
    "# Comprobar la plantilla\n",
    "\n",
    "print(plantilla)"
   ]
  },
  {
   "cell_type": "code",
   "execution_count": 90,
   "metadata": {},
   "outputs": [
    {
     "name": "stdout",
     "output_type": "stream",
     "text": [
      " Gravity Facts About: Ganimedes \n",
      "----------------------------------------------\n",
      "Nombre del planeta : Marte\n",
      "Gravedad en Ganimedes: 0.00143 m/s2' \n"
     ]
    }
   ],
   "source": [
    "# Nueva Plantilla usando fomat()\n",
    "\n",
    "plantilla2 = \"\"\" Gravity Facts About: {nombre} \n",
    "----------------------------------------------\n",
    "Nombre del planeta : {planeta}\n",
    "Gravedad en {nombre}: {gravedad} m/s2' \"\"\"\n",
    "print(plantilla2.format(nombre=nombre, planeta=planeta, gravedad=gravedad))\n"
   ]
  },
  {
   "cell_type": "code",
   "execution_count": 91,
   "metadata": {},
   "outputs": [
    {
     "name": "stdout",
     "output_type": "stream",
     "text": [
      " Gravity Facts About: Ganimedes \n",
      "----------------------------------------------\n",
      "Nombre del planeta : Marte\n",
      "Gravedad en Ganimedes: 1.4300000000000002 m/s2' \n"
     ]
    }
   ],
   "source": [
    "# Pasando distancia a m/s2\n",
    "\n",
    "print(plantilla2.format(nombre=nombre, planeta=planeta, gravedad=gravedad*1000))\n"
   ]
  }
 ],
 "metadata": {
  "interpreter": {
   "hash": "1e85ffd29bf42864c090d9603265d174842e229f999257a9d2f17f0db77ca601"
  },
  "kernelspec": {
   "display_name": "Python 3.8.5 64-bit ('base': conda)",
   "name": "python3"
  },
  "language_info": {
   "codemirror_mode": {
    "name": "ipython",
    "version": 3
   },
   "file_extension": ".py",
   "mimetype": "text/x-python",
   "name": "python",
   "nbconvert_exporter": "python",
   "pygments_lexer": "ipython3",
   "version": "3.8.5"
  },
  "orig_nbformat": 4
 },
 "nbformat": 4,
 "nbformat_minor": 2
}
