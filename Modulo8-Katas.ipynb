{
 "cells": [
  {
   "cell_type": "markdown",
   "metadata": {},
   "source": [
    "# Kata Modulo 8 - Creación de Diccionarios en Python."
   ]
  },
  {
   "cell_type": "markdown",
   "metadata": {},
   "source": [
    "## Ejercicio 1: Crear y modificar un diccionario de Python."
   ]
  },
  {
   "cell_type": "code",
   "execution_count": 32,
   "metadata": {},
   "outputs": [
    {
     "name": "stdout",
     "output_type": "stream",
     "text": [
      "The planet Mars has 2 moons. \n"
     ]
    }
   ],
   "source": [
    "# Crea un diccionario llamado planet con los datos propuestos.\n",
    "\n",
    "planet = {\n",
    "    'name': 'Mars',\n",
    "    'moons': 2\n",
    "}\n",
    "\n",
    "# Muestra el nombre del planeta y el numero de lunas que tiene.\n",
    "print(f'The planet {planet[\"name\"]} has {planet[\"moons\"]} moons. ')\n"
   ]
  },
  {
   "cell_type": "code",
   "execution_count": 33,
   "metadata": {},
   "outputs": [
    {
     "name": "stdout",
     "output_type": "stream",
     "text": [
      "The planet Mars has a polar circumference of 6752\n"
     ]
    }
   ],
   "source": [
    "# Agrega la clave circunferencia.\n",
    "\n",
    "planet.update({\n",
    "    'polar': 6752, \n",
    "    'equatorial': 6792\n",
    "    })\n",
    "\n",
    "# Imprimir el nombre del planeta con su circunferencia polar.\n",
    "print(f\"The planet {planet['name']} has a polar circumference of {planet['polar']}\")"
   ]
  },
  {
   "cell_type": "markdown",
   "metadata": {},
   "source": [
    "## Ejercicio 2: Programación dinámica con diccionarios."
   ]
  },
  {
   "cell_type": "code",
   "execution_count": 34,
   "metadata": {},
   "outputs": [
    {
     "name": "stdout",
     "output_type": "stream",
     "text": [
      "17.0\n"
     ]
    }
   ],
   "source": [
    "# Planets and moons.\n",
    "\n",
    "planetMoons = {\n",
    "    'mercury': 0,\n",
    "    'venus': 0,\n",
    "    'earth': 1,\n",
    "    'mars': 2,\n",
    "    'jupiter': 79,\n",
    "    'saturn': 82,\n",
    "    'neptune': 14,\n",
    "    'pluto': 5,\n",
    "    'haumea': 2,\n",
    "    'makemake': 1,\n",
    "    'eris': 1\n",
    "}\n",
    "\n",
    "moons = planetMoons.values()\n",
    "planets = len(planetMoons.keys())\n",
    "\n",
    "# Añade el código para determinar el número de lunas.\n",
    "\n",
    "totalMoons = 0\n",
    "\n",
    "for m in moons:\n",
    "    totalMoons += m\n",
    "\n",
    "# Calcular promedio de lunas y mostrarlo.\n",
    "\n",
    "prom = totalMoons / planets\n",
    "print(prom)\n",
    "\n"
   ]
  }
 ],
 "metadata": {
  "interpreter": {
   "hash": "1e85ffd29bf42864c090d9603265d174842e229f999257a9d2f17f0db77ca601"
  },
  "kernelspec": {
   "display_name": "Python 3.8.5 64-bit ('base': conda)",
   "name": "python3"
  },
  "language_info": {
   "codemirror_mode": {
    "name": "ipython",
    "version": 3
   },
   "file_extension": ".py",
   "mimetype": "text/x-python",
   "name": "python",
   "nbconvert_exporter": "python",
   "pygments_lexer": "ipython3",
   "version": "3.8.5"
  },
  "orig_nbformat": 4
 },
 "nbformat": 4,
 "nbformat_minor": 2
}
