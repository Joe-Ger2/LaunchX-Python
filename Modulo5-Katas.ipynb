{
 "cells": [
  {
   "cell_type": "markdown",
   "metadata": {},
   "source": [
    "# Kata Modulo 5 Operadores"
   ]
  },
  {
   "cell_type": "markdown",
   "metadata": {},
   "source": [
    "## Ejercicio 1: Operadores Aritmeticos\n",
    "\n",
    "Programa que calcule la distancia entre dos planetas."
   ]
  },
  {
   "cell_type": "code",
   "execution_count": 5,
   "metadata": {},
   "outputs": [
    {
     "name": "stdout",
     "output_type": "stream",
     "text": [
      " La distancia entra la Tierra y Jupiter en kilometros es de: 628949330\n",
      " La distancia entra la Tierra y Jupiter en Millas es de: 390577533.93\n"
     ]
    }
   ],
   "source": [
    "# Crear Variables\n",
    "tierra = 149597870\n",
    "jupiter = 778547200\n",
    "\n",
    "# Calcular distancia\n",
    "\n",
    "distanciaKm = jupiter - tierra\n",
    "distanciaMillas = distanciaKm * 0.621\n",
    "\n",
    "print(' La distancia entra la Tierra y Jupiter en kilometros es de: ' + str(distanciaKm))\n",
    "print(' La distancia entra la Tierra y Jupiter en Millas es de: ' + str(distanciaMillas))"
   ]
  },
  {
   "cell_type": "markdown",
   "metadata": {},
   "source": [
    "## Ejercicio 2: Convertir cadenas en Números con valor absoluto\n",
    "\n",
    "Crear una aplicación para trabajar con números y entrada de usuario."
   ]
  },
  {
   "cell_type": "code",
   "execution_count": 4,
   "metadata": {},
   "outputs": [
    {
     "name": "stdout",
     "output_type": "stream",
     "text": [
      "50300000\n",
      "31236300.0\n"
     ]
    }
   ],
   "source": [
    "# Almacenar las entradas del usuario\n",
    "# Convertir cadenas de los planetas a enteros.\n",
    "# Realizar el calculo y determinar el valor absoluto.\n",
    "\n",
    "planeta1 = int(input('Introduzca la distancia del sol al primer planeta: '))\n",
    "planeta2 = int(input('Introduzca la distancia del sol al segundo planeta: '))\n",
    "\n",
    "distancia_Km = planeta2 - planeta1\n",
    "print(abs(distancia_Km))\n",
    "\n",
    "distancia_Millas = distancia_Km * 0.621\n",
    "print(abs(distancia_Millas))"
   ]
  }
 ],
 "metadata": {
  "interpreter": {
   "hash": "1e85ffd29bf42864c090d9603265d174842e229f999257a9d2f17f0db77ca601"
  },
  "kernelspec": {
   "display_name": "Python 3.8.5 64-bit ('base': conda)",
   "name": "python3"
  },
  "language_info": {
   "codemirror_mode": {
    "name": "ipython",
    "version": 3
   },
   "file_extension": ".py",
   "mimetype": "text/x-python",
   "name": "python",
   "nbconvert_exporter": "python",
   "pygments_lexer": "ipython3",
   "version": "3.8.5"
  },
  "orig_nbformat": 4
 },
 "nbformat": 4,
 "nbformat_minor": 2
}
