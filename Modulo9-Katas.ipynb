{
 "cells": [
  {
   "cell_type": "markdown",
   "metadata": {},
   "source": [
    "# Kata Modulo 9 - Funciones"
   ]
  },
  {
   "cell_type": "markdown",
   "metadata": {},
   "source": [
    "## Ejercicio 1: Trabajar con argumentos en funciones."
   ]
  },
  {
   "cell_type": "code",
   "execution_count": 21,
   "metadata": {},
   "outputs": [],
   "source": [
    "# Función para leer 3 tanques de combustible y muestre el promedio.\n",
    "\n",
    "def informe(tanque1, tanque2, tanque3):\n",
    "    prom = (tanque1 + tanque2 + tanque3) / 3\n",
    "    return f\"\"\" Informe de Combustible:\n",
    "    Tanque 1: {tanque1}%\n",
    "    Tanque 2: {tanque2}%\n",
    "    Tanque 3: {tanque3}%\n",
    "    Promedio de Combustible: {prom}%\n",
    "    \"\"\"\n",
    "    \n"
   ]
  },
  {
   "cell_type": "code",
   "execution_count": 22,
   "metadata": {},
   "outputs": [
    {
     "name": "stdout",
     "output_type": "stream",
     "text": [
      " Informe de Combustible:\n",
      "    Tanque 1: 80%\n",
      "    Tanque 2: 85%\n",
      "    Tanque 3: 81%\n",
      "    Promedio de Combustible: 82.0%\n",
      "    \n"
     ]
    }
   ],
   "source": [
    "# Llamar a la funcion que genera el reporte\n",
    "\n",
    "print(informe(80, 85, 81))"
   ]
  },
  {
   "cell_type": "code",
   "execution_count": 23,
   "metadata": {},
   "outputs": [
    {
     "data": {
      "text/plain": [
       "82.0"
      ]
     },
     "execution_count": 23,
     "metadata": {},
     "output_type": "execute_result"
    }
   ],
   "source": [
    "# Funcion promedio\n",
    "\n",
    "def promedio(values):\n",
    "    prom = sum(values)\n",
    "    tanques = len(values)\n",
    "    return prom / tanques\n",
    "\n",
    "promedio([80, 85, 81])"
   ]
  },
  {
   "cell_type": "code",
   "execution_count": 24,
   "metadata": {},
   "outputs": [
    {
     "name": "stdout",
     "output_type": "stream",
     "text": [
      " Informe de Combustible:\n",
      "    Tanque 1: 88%\n",
      "    Tanque 2: 76%\n",
      "    Tanque 3: 70%\n",
      "    Total de Combustible: 78.0\n",
      "    \n"
     ]
    }
   ],
   "source": [
    "# Actualizar función informes\n",
    "\n",
    "def informe(tanque1, tanque2, tanque3):\n",
    "    return f\"\"\" Informe de Combustible:\n",
    "    Tanque 1: {tanque1}%\n",
    "    Tanque 2: {tanque2}%\n",
    "    Tanque 3: {tanque3}%\n",
    "    Total de Combustible: {promedio([tanque1, tanque2, tanque3])}\n",
    "    \"\"\"\n",
    "\n",
    "print(informe(88, 76, 70))\n"
   ]
  },
  {
   "cell_type": "markdown",
   "metadata": {},
   "source": [
    "## Ejercicio 2: Trabajo con argumentos de palabra clave."
   ]
  },
  {
   "cell_type": "code",
   "execution_count": 1,
   "metadata": {},
   "outputs": [
    {
     "name": "stdout",
     "output_type": "stream",
     "text": [
      "\n",
      "    Mision a Moon\n",
      "    Tiempo de vuelo: 65 minutos\n",
      "    Total de combustible: 500000 galones\n",
      "    \n"
     ]
    }
   ],
   "source": [
    "# Función con un informe preciso de la misión.\n",
    "\n",
    "def informePreciso(prelanzamiento, tiempoVuelo, destino, tanqueExterno, tanqueInterno):\n",
    "    return f\"\"\"\n",
    "    Mision a {destino}\n",
    "    Tiempo de vuelo: {prelanzamiento + tiempoVuelo} minutos\n",
    "    Total de combustible: {tanqueExterno + tanqueInterno} galones\n",
    "    \"\"\"\n",
    "print(informePreciso(14, 51, \"Moon\", 200000, 300000))"
   ]
  },
  {
   "cell_type": "code",
   "execution_count": 26,
   "metadata": {},
   "outputs": [
    {
     "name": "stdout",
     "output_type": "stream",
     "text": [
      "\n",
      "    Misión a: Moon\n",
      "    Tiempo total del viaje: 76 minutos\n",
      "    Total de Combustible: 500000\n",
      "    \n"
     ]
    }
   ],
   "source": [
    "# Escribe una nueva funcion de reporte considerando lo anterior.\n",
    "\n",
    "def informePreciso(destino, *minutes, **fuelReservoirs):\n",
    "    return f\"\"\"\n",
    "    Misión a: {destino}\n",
    "    Tiempo total del viaje: {sum(minutes)} minutos\n",
    "    Total de Combustible: {sum(fuelReservoirs.values())}\n",
    "    \"\"\"\n",
    "\n",
    "print(informePreciso('Moon', 10, 15, 51, externo=300000, interno=200000))"
   ]
  },
  {
   "cell_type": "code",
   "execution_count": 27,
   "metadata": {},
   "outputs": [
    {
     "name": "stdout",
     "output_type": "stream",
     "text": [
      "\"\n",
      "    Misión a Moon\n",
      "    Total del tiempo: 74 minutos\n",
      "    Total de Combustible: 500000\n",
      "    externo tanque --> 300000 galones izq\n",
      "interno tanque --> 200000 galones izq\n",
      "\n"
     ]
    }
   ],
   "source": [
    "# Escribir nueva funcion considerando cada tanque.\n",
    "\n",
    "def informePreciso(destino, *minutes, **fuelReservoirs):\n",
    "    inform = f\"\"\"\"\n",
    "    Misión a {destino}\n",
    "    Total del tiempo: {sum(minutes)} minutos\n",
    "    Total de Combustible: {sum(fuelReservoirs.values())}\n",
    "    \"\"\"\n",
    "    for tank, galon in fuelReservoirs.items():\n",
    "        inform += f'{tank} tanque --> {galon} galones izq\\n'\n",
    "    return inform\n",
    "\n",
    "print(informePreciso('Moon', 8, 11, 55, externo=300000, interno=200000))"
   ]
  }
 ],
 "metadata": {
  "interpreter": {
   "hash": "1e85ffd29bf42864c090d9603265d174842e229f999257a9d2f17f0db77ca601"
  },
  "kernelspec": {
   "display_name": "Python 3.8.5 64-bit ('base': conda)",
   "name": "python3"
  },
  "language_info": {
   "codemirror_mode": {
    "name": "ipython",
    "version": 3
   },
   "file_extension": ".py",
   "mimetype": "text/x-python",
   "name": "python",
   "nbconvert_exporter": "python",
   "pygments_lexer": "ipython3",
   "version": "3.8.5"
  },
  "orig_nbformat": 4
 },
 "nbformat": 4,
 "nbformat_minor": 2
}
